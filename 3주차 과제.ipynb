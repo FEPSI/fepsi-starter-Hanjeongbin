{
 "cells": [
  {
   "cell_type": "code",
   "execution_count": null,
   "metadata": {},
   "outputs": [],
   "source": [
    "def add(x):\n",
    "    sum = 0\n",
    "    for i in x:\n",
    "        sum += int(i)\n",
    "    return sum\n"
   ]
  },
  {
   "cell_type": "code",
   "execution_count": null,
   "metadata": {},
   "outputs": [],
   "source": [
    "s = [1,2,3,4]\n",
    "add(s)"
   ]
  },
  {
   "cell_type": "code",
   "execution_count": null,
   "metadata": {},
   "outputs": [],
   "source": [
    "def gen(n):\n",
    "    ans = n\n",
    "    for i in str(n):\n",
    "        ans+=int(i)\n",
    "    return ans    "
   ]
  },
  {
   "cell_type": "code",
   "execution_count": null,
   "metadata": {},
   "outputs": [],
   "source": [
    "i = 1\n",
    "gen_list = []\n",
    "while i<= 10000:\n",
    "    gen_list.append(gen(i))\n",
    "    i+=1\n",
    "\n",
    "for j in range(1,10001):\n",
    "    if j not in gen_list:\n",
    "        print(j)"
   ]
  },
  {
   "cell_type": "code",
   "execution_count": null,
   "metadata": {},
   "outputs": [],
   "source": []
  }
 ],
 "metadata": {
  "language_info": {
   "name": "python"
  },
  "orig_nbformat": 4
 },
 "nbformat": 4,
 "nbformat_minor": 2
}
