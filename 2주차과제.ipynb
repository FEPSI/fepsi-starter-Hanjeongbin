{
 "cells": [
  {
   "cell_type": "code",
   "execution_count": null,
   "metadata": {},
   "outputs": [],
   "source": [
    "i = 1\n",
    "gen_list = []\n",
    "while i<= 10000:\n",
    "    gen_list.append(gen(i))\n",
    "    i+=1\n",
    "\n",
    "for j in range(1,10001):\n",
    "    if j not in gen_list:\n",
    "        print(j)"
   ]
  },
  {
   "cell_type": "code",
   "execution_count": null,
   "metadata": {},
   "outputs": [],
   "source": [
    "a = int(input())\n",
    "i = 1\n",
    "sum = 0\n",
    "while i <= a:\n",
    "    sum += i \n",
    "    i+=1\n",
    "print(sum)    \n"
   ]
  },
  {
   "cell_type": "code",
   "execution_count": null,
   "metadata": {},
   "outputs": [],
   "source": [
    "score = int(input())\n",
    "if 90<= score <= 100:\n",
    "    print('A')\n",
    "\n",
    "elif score >=80:\n",
    "    print('B')\n",
    "\n",
    "elif score >= 70:\n",
    "    print(\"C\")\n",
    "\n",
    "elif score >=60:\n",
    "    print('D')\n",
    "\n",
    "else:\n",
    "    print('F')\n"
   ]
  },
  {
   "cell_type": "code",
   "execution_count": null,
   "metadata": {},
   "outputs": [],
   "source": []
  }
 ],
 "metadata": {
  "kernelspec": {
   "display_name": "Python 3",
   "language": "python",
   "name": "python3"
  },
  "language_info": {
   "codemirror_mode": {
    "name": "ipython",
    "version": 3
   },
   "file_extension": ".py",
   "mimetype": "text/x-python",
   "name": "python",
   "nbconvert_exporter": "python",
   "pygments_lexer": "ipython3",
   "version": "3.10.8"
  },
  "orig_nbformat": 4
 },
 "nbformat": 4,
 "nbformat_minor": 2
}
